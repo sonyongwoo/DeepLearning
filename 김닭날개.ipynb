{
  "nbformat": 4,
  "nbformat_minor": 0,
  "metadata": {
    "colab": {
      "name": "김닭날개.ipynb",
      "private_outputs": true,
      "provenance": [],
      "collapsed_sections": [],
      "mount_file_id": "1sQqXfWrU6C2-c4vMAG0AR7ph7Z34DzLv",
      "authorship_tag": "ABX9TyPNwrW8GPokefUjGl4jLQxP",
      "include_colab_link": true
    },
    "kernelspec": {
      "name": "python3",
      "display_name": "Python 3"
    },
    "language_info": {
      "name": "python"
    },
    "accelerator": "GPU"
  },
  "cells": [
    {
      "cell_type": "markdown",
      "metadata": {
        "id": "view-in-github",
        "colab_type": "text"
      },
      "source": [
        "<a href=\"https://colab.research.google.com/github/sonyongwoo/DeepLearning/blob/main/%EA%B9%80%EB%8B%AD%EB%82%A0%EA%B0%9C.ipynb\" target=\"_parent\"><img src=\"https://colab.research.google.com/assets/colab-badge.svg\" alt=\"Open In Colab\"/></a>"
      ]
    },
    {
      "cell_type": "code",
      "metadata": {
        "id": "fPoe2cx1TJqW"
      },
      "source": [
        "  from google.colab import drive\n",
        "  drive.mount('/content/drive', force_remount=True)"
      ],
      "execution_count": null,
      "outputs": []
    },
    {
      "cell_type": "code",
      "metadata": {
        "id": "mjfJW1Nbdavo"
      },
      "source": [
        "#압축해제\n",
        "cd \"/content/drive/MyDrive/\""
      ],
      "execution_count": null,
      "outputs": []
    },
    {
      "cell_type": "code",
      "metadata": {
        "id": "IsIoxrikU7p6"
      },
      "source": [
        ""
      ],
      "execution_count": null,
      "outputs": []
    },
    {
      "cell_type": "code",
      "metadata": {
        "id": "QZs1n-NJdBER"
      },
      "source": [
        "#집파일로부터 폴더 생성\n",
        "\n",
        "import os\n",
        "import tensorflow as tf\n",
        "import shutil\n",
        "\n",
        "os.mkdir('/content/dataset')\n",
        "os.mkdir('/content/dataset/fem')\n",
        "os.mkdir('/content/dataset/male')\n",
        "\n",
        "for i in os.listdir('/content/'):\n",
        "    if 'fem' in i:\n",
        "        shutil.move( '/content/' + i, '/content/dataset/fem/' + i )\n",
        "    # if 'male' in i:\n",
        "    #     shutil.move( '/content/' + i, '/content/dataset/male/' + i)\n",
        "    "
      ],
      "execution_count": null,
      "outputs": []
    },
    {
      "cell_type": "code",
      "metadata": {
        "id": "LhzU5BLeh2Xw"
      },
      "source": [
        "train_ds = tf.keras.preprocessing.image_dataset_from_directory(\n",
        "    '/content/dataset/',\n",
        "    image_size=(244,244),\n",
        "    batch_size=32,\n",
        "    subset='training',\n",
        "    validation_split=0.2,\n",
        "    seed=1234\n",
        ")\n",
        "\n",
        "val_ds = tf.keras.preprocessing.image_dataset_from_directory(\n",
        "    '/content/dataset/',\n",
        "    image_size=(244,244),\n",
        "    batch_size=32,\n",
        "    subset='validation',\n",
        "    validation_split=0.2,\n",
        "    seed=1234\n",
        ")\n",
        "\n",
        "#데이터 검증\n",
        "print(train_ds)\n",
        "\n",
        "#import matplotlib.pyplot as plt\n",
        "\n",
        "#for i, 정답 in train_ds.take(1):\n",
        "#    print(i)\n",
        "#    print(정답)\n",
        "#    plt.imshow(i[0].numpy().astype('uint8'))\n",
        "#    plt.show()"
      ],
      "execution_count": null,
      "outputs": []
    },
    {
      "cell_type": "code",
      "metadata": {
        "id": "VZETk_SxnMRQ"
      },
      "source": [
        "\n",
        "#VGG다운로드\n",
        "vgg_dir = 'vgg/'\n",
        "if not isdir(vgg_dir):\n",
        "    os.makedirs(vgg_dir)\n",
        "    \n",
        "class DLProgress(tqdm):\n",
        "    last_block = 0\n",
        "    \n",
        "    def hook(self, block_num=1, block_size=1, total_size=None):\n",
        "        self.total = total_size\n",
        "        self.update((block_num - self.last_block) * block_size)\n",
        "        self.last_block = block_num\n",
        "        \n",
        "if not isfile(vgg_dir + \"vgg16.npy\"):\n",
        "    with DLProgress(unit='B', unit_scale=True, miniters=1, desc='VGG16 Params') as pbar:\n",
        "        urlretrieve(\n",
        "            'https://s3.amazonaws.com/content.udacity-data.com/nd101/vgg16.npy',\n",
        "            vgg_dir + 'vgg16.npy',\n",
        "            pbar.hook\n",
        "        )\n",
        "else:\n",
        "    print(\"VGG16 already exists.\")"
      ],
      "execution_count": null,
      "outputs": []
    },
    {
      "cell_type": "code",
      "metadata": {
        "id": "navC9wEyXXB_"
      },
      "source": [
        "#Learning\n",
        "import tensorflow as tf\n",
        "from tensorflow.keras.preprocessing.image import ImageDataGenerator\n",
        "from tensorflow.keras import layers, models \n",
        "from tensorflow.keras.applications import VGG16\n",
        "\n",
        "base = VGG16(weights= 'imagenet', include_top=False, input_shape = (244,244,3))\n",
        "base.trainable = False\n",
        "for layer in base.layers:\n",
        "  print('{} : {}'.format(layer, layer.trainable))\n",
        "  \n",
        "train_gen = ImageDataGenerator(horizontal_flip = True,\n",
        "                              rotation_range = 60,\n",
        "                              rescale = 1./255,\n",
        "                              zoom_range = [0.7,1.5],\n",
        "                              brightness_range = (0.7,1.0),\n",
        "                              width_shift_range = 0.1,\n",
        "                              height_shift_range = 0.1,\n",
        "                              fill_mode='nearest',\n",
        "                              validation_split=0.2) \n",
        "#val, gen generator\n",
        "#VT_gen = ImageDataGenerator(rescale = 1./255)\n",
        "\n",
        "batch_size = 32\n",
        "#generator.flowfromdirectory\n",
        "train_genorator = train_gen.flow_from_directory('/content/drive/MyDrive/chicken_sexing/training',\n",
        "                                                 target_size = (244,244), class_mode = 'binary', shuffle=True, seed=1, color_mode='rgb', batch_size=batch_size, subset='training')\n",
        "val_genorator = train_gen.flow_from_directory('/content/drive/MyDrive/chicken_sexing/training', \n",
        "                                               target_size = (244,244), class_mode = 'binary', shuffle=True, seed=7, color_mode='rgb', batch_size=batch_size, subset='validation')\n",
        "\n",
        "#  test_genorator = VT_gen.flow_from_directory('/content/dataset',\n",
        "#                                             target_size = (244,244), batch_size = batch_size, class_mode = 'binary', shuffle=True, seed=123, color_mode='rgb', batch_size=32)\n",
        "\n",
        "# train_ds = tf.keras.preprocessing.image_dataset_from_directory(\n",
        "#     '/content/dataset/',\n",
        "#     image_size=(244,244),\n",
        "#     batch_size=32,\n",
        "#     subset='training',\n",
        "#     validation_split=0.2,\n",
        "#     seed=1234\n",
        "# )\n",
        "\n",
        "# val_ds = tf.keras.preprocessing.image_dataset_from_directory(\n",
        "#     '/content/dataset/',\n",
        "#     image_size=(244,244),\n",
        "#     batch_size=32,\n",
        "#     subset='validation',\n",
        "#     validation_split=0.2,\n",
        "#     seed=1234\n",
        "# )\n",
        "\n",
        "# def 전처리함수(i, 정답):\n",
        "#     i = tf.cast( i/255.0, tf.float32 )\n",
        "#     return i, 정답\n",
        "\n",
        "# train_ds = train\n",
        "\n",
        "model = models.Sequential()\n",
        "model.add(base)\n",
        "model.add(layers.BatchNormalization())\n",
        "model.add(layers.Flatten())\n",
        "model.add(layers.Dense(4096, activation = 'relu')) \n",
        "model.add(layers.Dropout(0.3))\n",
        "model.add(layers.Dense(4096, activation = 'relu'))\n",
        "model.add(layers.Dropout(0.2))\n",
        "model.add(layers.Dense(1, activation = 'sigmoid'))\n",
        "\n",
        "콜백함수 = tf.keras.callbacks.ModelCheckpoint(\n",
        "    filepath='체크포인트/VGG16',\n",
        "    save_weights_only=True,\n",
        "    save_freq='epoch'\n",
        ")\n",
        "\n",
        "#sgd = tf.keras.optimizers.SGD(learning_rate= 1.e-4, momentum = 0.9)\n",
        "model.compile(optimizer = \"adam\", loss = 'binary_crossentropy',metrics = ['accuracy'])\n",
        "\n",
        "from tensorflow.keras.callbacks import TensorBoard\n",
        "import time\n",
        "\n",
        "tensorboard = TensorBoard( log_dir='logs/{}'.format( '첫모델' + str(int(time.time()) )) )\n",
        "\n",
        "#EarlyStopping\n",
        "from tensorflow.keras.callbacks import EarlyStopping\n",
        "\n",
        "es = EarlyStopping( monitor='val_loss', patience=5, mode='min' )\n",
        "\n",
        "epochs = 100\n",
        "\n",
        "hist = model.fit(train_genorator, batch_size = batch_size, epochs= epochs , validation_data = val_genorator, callbacks=[콜백함수, tensorboard])"
      ],
      "execution_count": null,
      "outputs": []
    },
    {
      "cell_type": "code",
      "metadata": {
        "id": "ULxYj5dHhtR8"
      },
      "source": [
        "%load_ext tensorboard"
      ],
      "execution_count": null,
      "outputs": []
    },
    {
      "cell_type": "code",
      "metadata": {
        "id": "6dlKU_78htFt"
      },
      "source": [
        "%tensorboard --logdir logs"
      ],
      "execution_count": null,
      "outputs": []
    },
    {
      "cell_type": "code",
      "metadata": {
        "id": "oDmq-hq8u0_u"
      },
      "source": [
        ""
      ],
      "execution_count": null,
      "outputs": []
    }
  ]
}